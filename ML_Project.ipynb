{
  "cells": [
    {
      "cell_type": "markdown",
      "metadata": {
        "id": "o9qOu-qgZTfH"
      },
      "source": [
        "# Machine Learning project"
      ]
    },
    {
      "cell_type": "markdown",
      "metadata": {
        "id": "r_613birLYN3"
      },
      "source": [
        "# Sentiment Analysis of IMDB Movie Reviews using PySpark\n",
        "\n",
        "## Abstract\n",
        "The project presents a large-scale emotion analysis task on the IMDB movie review dataset using Pyspark. The dataset has 50,000 movie reviews labeled as positive or negative. We apply many machine learning algorithms (logistics Region, Bhole Bayes, Random Forest and Relative Support Vector Classifier) and compare their performance. Pyspark enables distributed processing, which makes it suitable for handling the text data on a large scale. The pipeline includes text preprocessing (cleaning, tokanization, stopWords removal), feature extraction TF-IDF and extraction using classifications. Results suggest that linear models such as logistic region and SVMs receive higher accuracy than possible or ensemble approaches. This report discusses functioning, literature background, experimental results and future improvements.\n"
      ]
    },
    {
      "cell_type": "code",
      "execution_count": null,
      "metadata": {
        "colab": {
          "base_uri": "https://localhost:8080/"
        },
        "id": "6GJW-q5n1B7n",
        "outputId": "d82f3a69-11bc-4b5b-e28e-fd4ef5e37a13"
      },
      "outputs": [
        {
          "name": "stdout",
          "output_type": "stream",
          "text": [
            "Extracted to: /content/extracted_files\n"
          ]
        }
      ],
      "source": [
        "# First we import python utilities and helper modules for file handling.\n",
        "# They need to be unzipped and Spark can process it before preparing the IMDB dataset.\n",
        "\n",
        "import zipfile\n",
        "import os\n",
        "\n",
        "v_zi_pa = \"/content/muy.zip\"\n",
        "\n",
        "v_ex_di = \"/content/extracted_files\"\n",
        "os.makedirs(v_ex_di, exist_ok=True)\n",
        "\n",
        "with zipfile.ZipFile(v_zi_pa, 'r') as v_zi_re:\n",
        "    v_zi_re.extractall(v_ex_di)\n",
        "\n",
        "print(f\"Extracted to: {v_ex_di}\")"
      ]
    },
    {
      "cell_type": "code",
      "execution_count": null,
      "metadata": {
        "colab": {
          "base_uri": "https://localhost:8080/"
        },
        "id": "3DkW4LNGncrW",
        "outputId": "e9155422-4585-408c-f88f-41e2aaf6ccd2"
      },
      "outputs": [
        {
          "name": "stdout",
          "output_type": "stream",
          "text": [
            "Requirement already satisfied: pyspark==3.4.1 in /usr/local/lib/python3.12/dist-packages (3.4.1)\n",
            "Requirement already satisfied: py4j==0.10.9.7 in /usr/local/lib/python3.12/dist-packages (from pyspark==3.4.1) (0.10.9.7)\n",
            "Requirement already satisfied: spark-nlp==5.2.3 in /usr/local/lib/python3.12/dist-packages (5.2.3)\n"
          ]
        }
      ],
      "source": [
        "# Here we install Pyspark 3.4.1 and bring Ml to libraries.\n",
        "# This ensures that we have the right environment for pipelines and ML tools.\n",
        "\n",
        "!pip install pyspark==3.4.1\n",
        "!pip install spark-nlp==5.2.3\n",
        "\n",
        "import os\n",
        "import re\n",
        "from pyspark.sql import SparkSession\n",
        "from pyspark.sql.functions import udf, col\n",
        "from pyspark.sql.types import StringType\n",
        "from pyspark.ml.feature import Tokenizer, StopWordsRemover, HashingTF, IDF, StringIndexer\n",
        "from pyspark.ml.classification import LogisticRegression, NaiveBayes, RandomForestClassifier, LinearSVC\n",
        "from pyspark.ml import Pipeline\n",
        "from pyspark.ml.evaluation import MulticlassClassificationEvaluator"
      ]
    },
    {
      "cell_type": "markdown",
      "metadata": {
        "id": "z_lS0n13a5i-"
      },
      "source": [
        "#  - Data Loading and Preprocessing"
      ]
    },
    {
      "cell_type": "code",
      "execution_count": null,
      "metadata": {
        "id": "uaUukInpnmM-"
      },
      "outputs": [],
      "source": [
        "# A small function Gettext (path) is defined to read lessons from review files.\n",
        "# It helps us load the raw review material in memory in a re -purpose manner.\n",
        "\n",
        "# --- Fix helpers: keep same logic, ensure they return lists ---\n",
        "\n",
        "import os\n",
        "\n",
        "def v_ge(v_pa):\n",
        "    \"\"\"Collect file paths under v_pa.\"\"\"\n",
        "    v_li = []\n",
        "    for v_d, _, v_fs in os.walk(v_pa):\n",
        "        for v_f in v_fs:\n",
        "            v_li.append(os.path.join(v_d, v_f))\n",
        "    return v_li  # <-- important\n",
        "\n",
        "def v_da(v_ar, v_la):\n",
        "    \"\"\"Read files in v_ar and attach label v_la -> list of (text, label).\"\"\"\n",
        "    v_li = []\n",
        "    for v_p in v_ar:\n",
        "        with open(v_p, encoding=\"utf-8\", errors=\"ignore\") as v_f:\n",
        "            v_tx = v_f.read()\n",
        "        v_li.append((v_tx, v_la))\n",
        "    return v_li  # <-- important\n"
      ]
    },
    {
      "cell_type": "code",
      "execution_count": null,
      "metadata": {
        "id": "auv92oCwnwCo"
      },
      "outputs": [],
      "source": [
        "# Training and test folders (POS/Neg) paths are set here.\n",
        "# Clear structure makes it easy to load the data correctly.\n",
        "v_po_pa = '/content/extracted_files/aclImdb_v1/aclImdb/train/pos'\n",
        "v_ne_pa = '/content/extracted_files/aclImdb_v1/aclImdb/train/neg'\n",
        "v_po_pa_te = '/content/extracted_files/aclImdb_v1/aclImdb/test/pos'\n",
        "v_ne_pa_te = '/content/extracted_files/aclImdb_v1/aclImdb/test/neg'"
      ]
    },
    {
      "cell_type": "code",
      "execution_count": null,
      "metadata": {
        "id": "f-2fLhpjnw1d"
      },
      "outputs": [],
      "source": [
        "# Now we loop through the IMDB folder and review a panda with their label in dataframe.\n",
        "# Many text files are consolidated in a table before going to spark.\n",
        "\n",
        "v_po_re = v_da(v_ge(v_po_pa), 1)\n",
        "v_ne_re = v_da(v_ge(v_ne_pa), 0)\n",
        "v_po_te_re = v_da(v_ge(v_po_pa_te), 1)\n",
        "v_ne_te_re = v_da(v_ge(v_ne_pa_te), 0)\n",
        "\n",
        "v_al_re = v_po_re + v_ne_re + v_po_te_re + v_ne_te_re"
      ]
    },
    {
      "cell_type": "code",
      "execution_count": null,
      "metadata": {
        "id": "c7JanFLGoBWU"
      },
      "outputs": [],
      "source": [
        "# A sparksation is made and the panda-to-race functions are imported.\n",
        "# Spark is required for distributed processing and ML pipeline structure.\n",
        "\n",
        "import pandas as pd\n",
        "v_da2 = pd.DataFrame(v_al_re, columns=['review', 'label'])\n",
        "\n",
        "v_sp = SparkSession.builder\\\n",
        "    .appName(\"IMDB Sentiment Analysis\")\\\n",
        "    .getOrCreate()"
      ]
    },
    {
      "cell_type": "code",
      "execution_count": null,
      "metadata": {
        "id": "B8lNbxfxoFFD"
      },
      "outputs": [],
      "source": [
        "# At this point i convert Pandas dataframe into spark dataframe with skima.\n",
        "# Spark dataframes are essential for spark mL changes and training.\n",
        "\n",
        "v_da_sp = v_sp.createDataFrame(v_da2)"
      ]
    },
    {
      "cell_type": "code",
      "execution_count": null,
      "metadata": {
        "id": "HUZywnuqoITS"
      },
      "outputs": [],
      "source": [
        "# Here i reduce reviews and apply simple cleaning stages.\n",
        "# It reduces noise and makes the text more uniform for analysis.\n",
        "\n",
        "def v_cl_te(v_te):\n",
        "    if v_te is None:\n",
        "        return \"\"\n",
        "    v_te = v_te.lower()\n",
        "    v_te = re.sub(r'<br\\s*/?>', ' ', v_te)\n",
        "    v_te = re.sub(r\"[^a-zA-Z\\s]\", \" \", v_te)\n",
        "    v_te = re.sub(r'\\s{2,}', ' ', v_te)\n",
        "    return v_te\n",
        "\n",
        "v_cl_ud = udf(v_cl_te, StringType())\n",
        "v_da_sp = v_da_sp.withColumn(\"review_cleaned\", v_cl_ud(col(\"review\")))"
      ]
    },
    {
      "cell_type": "code",
      "execution_count": null,
      "metadata": {
        "id": "oQPCfhKZoLmv"
      },
      "outputs": [],
      "source": [
        "# Tokenizer and StopWordsRemover are applied to divide the text into tokens and release general words.\n",
        "# It only keeps meaningful tokens, the model improves focus.\n",
        "\n",
        "v_to = Tokenizer(inputCol=\"review_cleaned\", outputCol=\"words_token\")\n",
        "v_st_re = StopWordsRemover(inputCol=\"words_token\", outputCol=\"words_cleaned\")"
      ]
    },
    {
      "cell_type": "code",
      "execution_count": null,
      "metadata": {
        "id": "nqA09nxwoOxN"
      },
      "outputs": [],
      "source": [
        "# Next we manufacture TF -DF features using HashingTf and IDF.\n",
        "# It converts the text into a numeric vector that captures the importance of words in documents.\n",
        "\n",
        "v_ha = HashingTF(inputCol=\"words_cleaned\", outputCol=\"rawFeatures\", numFeatures=5000)\n",
        "v_id = IDF(inputCol=\"rawFeatures\", outputCol=\"features\")"
      ]
    },
    {
      "cell_type": "code",
      "execution_count": null,
      "metadata": {
        "id": "JPw4JcwhoSwz"
      },
      "outputs": [],
      "source": [
        "# StringIndexer is used to convert the reading label (Pos/Neg) into numerical people.\n",
        "# Many classifiers accept only numerical labels, so this step is necessary.\n",
        "\n",
        "v_la_in = StringIndexer(inputCol=\"label\", outputCol=\"label_index\")"
      ]
    },
    {
      "cell_type": "code",
      "execution_count": null,
      "metadata": {
        "id": "wOmY3YvToV5J"
      },
      "outputs": [],
      "source": [
        "\n",
        "# Dataset is divided into training and testing the best with randomSplit.\n",
        "# We need a separate test set to evaluate generalization.\n",
        "\n",
        "v_tr_da, v_te_da = v_da_sp.randomSplit([0.8, 0.2], seed=42)"
      ]
    },
    {
      "cell_type": "markdown",
      "metadata": {
        "id": "8vSxvTwPbEnu"
      },
      "source": [
        "# Model Selection and its Implementation"
      ]
    },
    {
      "cell_type": "markdown",
      "metadata": {
        "id": "LO_u8ySQMQ0F"
      },
      "source": [
        "### Logistic Regression\n",
        "\n",
        "Logistic Regression\n",
        "Why we used the Logistic Regression model? Logistics Region is one of the most widely used algorithms for binary classification problems, making it a natural option for emotion analysis where work reviews have to be classified as positive or negative. It is simple, skilled and explanatory. Logistic regression often performs well on high-dimensional rare data such as TF-IDF features, which makes it particularly effective for text classification.\n",
        "\n",
        "If the possibility is more than 0.5, the review is classified as positive; Otherwise, it is classified as negative. Model parameters are learned by maximizing the possibility function using gradients such as adaptation algorithms.\n",
        "\n",
        "Reason for Selection\n",
        "\n",
        "Effective for binary sentiment analysis (positive vs. negative).\n",
        "Works well with sparse high-dimensional data from TF-IDF.\n",
        "Provides a probabilistic interpretation, which is useful for confidence estimation.\n",
        "Computationally efficient and scalable in Spark.\n"
      ]
    },
    {
      "cell_type": "code",
      "execution_count": null,
      "metadata": {
        "id": "oXj3C3xpoY83"
      },
      "outputs": [],
      "source": [
        "# A pipeline is made with preprocessing steps plus logistic regression.\n",
        "# Preprocessing and model in pipelines are constantly associated with training and prediction.\n",
        "v_lr = LogisticRegression(featuresCol=\"features\", labelCol=\"label_index\", maxIter=20)\n",
        "v_pi_lr = Pipeline(stages=[v_to, v_st_re, v_ha, v_id, v_la_in, v_lr])\n",
        "v_lr_mo = v_pi_lr.fit(v_tr_da)\n",
        "v_pr_lr = v_lr_mo.transform(v_te_da)"
      ]
    },
    {
      "cell_type": "code",
      "execution_count": null,
      "metadata": {
        "colab": {
          "base_uri": "https://localhost:8080/"
        },
        "id": "TkhVBZdoobuJ",
        "outputId": "be51d60c-b62d-412c-d4f2-fd1d3de55e48"
      },
      "outputs": [
        {
          "name": "stdout",
          "output_type": "stream",
          "text": [
            "Logistic Regression Accuracy: 0.8425428368650512\n"
          ]
        }
      ],
      "source": [
        "evaluator = MulticlassClassificationEvaluator(labelCol=\"label_index\", predictionCol=\"prediction\", metricName=\"accuracy\")\n",
        "v_ac_lr = evaluator.evaluate(v_pr_lr)\n",
        "print(\"Logistic Regression Accuracy:\", v_ac_lr)"
      ]
    },
    {
      "cell_type": "markdown",
      "metadata": {
        "id": "naQjNyh0Mhv2"
      },
      "source": [
        "### Naive Bayes\n",
        "\n",
        "Naive Bayes\n",
        "Why Naive Bayes? Naive Bayes is a potential classifier usually used in text classification, due to its simplicity and surprisingly good performance in practice. It is based on the theorem of Beyas and considers freedom among the characteristics, although the language is unrealistic in data, the emotion gives effective results for analysis.\n",
        "\n",
        "The \"naive\" perception is that all words are independently given square labels. Despite this simplification, Naive Bayes often performs competitively on the text dataset.\n",
        "\n",
        "Reason for Selection\n",
        "\n",
        "Extremely fast to train and test, making it scalable for large datasets.\n",
        "A strong baseline model for text classification.\n",
        "Performs well with word count and frequency-based features.\n",
        "Good at handling high-dimensional data.\n"
      ]
    },
    {
      "cell_type": "code",
      "execution_count": null,
      "metadata": {
        "colab": {
          "base_uri": "https://localhost:8080/"
        },
        "id": "rPdZA4eIogXK",
        "outputId": "709208e1-c0ab-4d6c-e999-ef10546476b3"
      },
      "outputs": [
        {
          "name": "stdout",
          "output_type": "stream",
          "text": [
            "Naive Bayes Accuracy: 0.8238872553989658\n"
          ]
        }
      ],
      "source": [
        "# Another pipeline is built here, swapping in naive beeies as a classifier.\n",
        "# NB is faster and often effective on bag-off-wards text, so it is worth comparing it.\n",
        "\n",
        "v_nb = NaiveBayes(featuresCol=\"features\", labelCol=\"label_index\")\n",
        "v_pi_nb = Pipeline(stages=[v_to, v_st_re, v_ha, v_id, v_la_in, v_nb])\n",
        "v_nb_mo = v_pi_nb.fit(v_tr_da)\n",
        "v_pr_nb = v_nb_mo.transform(v_te_da)\n",
        "v_ac_nb = evaluator.evaluate(v_pr_nb)\n",
        "print(\"Naive Bayes Accuracy:\", v_ac_nb)"
      ]
    },
    {
      "cell_type": "markdown",
      "metadata": {
        "id": "DRxhTz8bMmHM"
      },
      "source": [
        "### Random Forest\n",
        "\n",
        "\n",
        "Why Random Forest?\n",
        "Random Forest is a dress learning method that combines several decisions trees to improve classification accuracy and reduce overfiting. It is well suited to handle complex dataset where non-lectural relationships exist between features and labels.\n",
        "\n",
        "Reason for Selection\n",
        "\n",
        "Robust to overfitting due to ensemble averaging.\n",
        "Can capture non-linear patterns in the dataset.\n",
        "Provides feature importance scores, helping us understand influential words.\n",
        "Useful as a comparison against linear models."
      ]
    },
    {
      "cell_type": "code",
      "execution_count": null,
      "metadata": {
        "colab": {
          "base_uri": "https://localhost:8080/"
        },
        "id": "8W7D5Kr9ohYr",
        "outputId": "d3be0bae-bec6-4f2e-f375-573f7f6fbd18"
      },
      "outputs": [
        {
          "name": "stdout",
          "output_type": "stream",
          "text": [
            "Random Forest Accuracy: 0.7972219405860286\n"
          ]
        }
      ],
      "source": [
        "# Now i install a pipeline with random forest as classifier.\n",
        "# i test to see whether Tree can capture nonlinear patterns in an ensemble text features.\n",
        "\n",
        "v_rf = RandomForestClassifier(featuresCol=\"features\", labelCol=\"label_index\", numTrees=500)\n",
        "v_pi_rf = Pipeline(stages=[v_to, v_st_re, v_ha, v_id, v_la_in, v_rf])\n",
        "v_rf_mo = v_pi_rf.fit(v_tr_da)\n",
        "v_pr_rf = v_rf_mo.transform(v_te_da)\n",
        "v_ac_rf = evaluator.evaluate(v_pr_rf)\n",
        "print(\"Random Forest Accuracy:\", v_ac_rf)"
      ]
    },
    {
      "cell_type": "markdown",
      "metadata": {
        "id": "bKcfAkI0MwI3"
      },
      "source": [
        "### Linear Support Vector Classifier (SVC)\n",
        "\n",
        "\n",
        "Why Linear SVC?\n",
        "Support Vector Machines (SVMs) are among the most powerful algorithms for text classification. They are particularly effective in high-dimensional spaces like TF-IDF vectors. A Linear SVC is chosen because it is computationally more efficient than kernel-based SVMs and works well on large datasets.\n",
        "\n",
        "How it Works\n",
        "Linear SVC attempts to find a hyperplane that best separates the two classes (positive and negative reviews). The goal is to maximize the margin between the hyperplane and the nearest data points (support vectors).\n",
        "\n",
        "Reason for Selection\n",
        "\n",
        "Works extremely well with sparse and high-dimensional data.\n",
        "Often achieves higher accuracy than Naive Bayes.\n",
        "Effective when there is a clear separation between classes.\n",
        "Scales well in distributed environments like Spark.\n"
      ]
    },
    {
      "cell_type": "code",
      "execution_count": null,
      "metadata": {
        "colab": {
          "base_uri": "https://localhost:8080/"
        },
        "id": "8RBSapczJ7hy",
        "outputId": "e1c6ebd7-13d5-416a-cb87-c2e74166d962"
      },
      "outputs": [
        {
          "name": "stdout",
          "output_type": "stream",
          "text": [
            "Linear SVC Accuracy: 0.8589678596775829\n"
          ]
        }
      ],
      "source": [
        "\n",
        "\n",
        "\n",
        "\n",
        "v_sv = LinearSVC(featuresCol=\"features\", labelCol=\"label_index\", maxIter=20)\n",
        "v_pi_sv = Pipeline(stages=[v_to, v_st_re, v_ha, v_id, v_la_in, v_sv])\n",
        "v_sv_mo = v_pi_sv.fit(v_tr_da)\n",
        "v_pr_sv = v_sv_mo.transform(v_te_da)\n",
        "v_ac_sv = evaluator.evaluate(v_pr_sv)\n",
        "print(\"Linear SVC Accuracy:\", v_ac_sv)"
      ]
    },
    {
      "cell_type": "markdown",
      "metadata": {
        "id": "5JOoUhGqanLb"
      },
      "source": [
        "Task 3 – Model Evaluation, Fine Tuning, and Outcome Visualizations"
      ]
    },
    {
      "cell_type": "code",
      "execution_count": null,
      "metadata": {
        "id": "MrsunI42Schn"
      },
      "outputs": [],
      "source": [
        "# Utility works and matPlotLibs are imported for evaluation.\n",
        "# We will use them to calculate and imagine confusion.\n",
        "\n",
        "import pandas as pd\n",
        "import seaborn as sns\n",
        "import matplotlib.pyplot as plt\n",
        "from pyspark.ml.evaluation import MulticlassClassificationEvaluator"
      ]
    },
    {
      "cell_type": "code",
      "execution_count": null,
      "metadata": {
        "id": "nhiUgUU2jeDd"
      },
      "outputs": [],
      "source": [
        "# This auxiliary function fits a model, evaluates it, and its confusion plots the matrix.\n",
        "# It standardizes the evaluation so that we can shoulder to shoulder than the model.\n",
        "\n",
        "def v_ev_mo_wi_cm(v_mo, v_pi_st, paramGrid=None):\n",
        "    v_pi = Pipeline(stages=v_pi_st + [v_mo])\n",
        "\n",
        "    if v_pa2:\n",
        "        v_cv = CrossValidator(estimator=v_pi,\n",
        "                            estimatorParamMaps=v_pa2,\n",
        "                            evaluator=MulticlassClassificationEvaluator(labelCol=\"label_index\",\n",
        "                                                                         predictionCol=\"prediction\",\n",
        "                                                                         metricName=\"accuracy\"),\n",
        "                            numFolds=3)\n",
        "        v_cv_mo = v_cv.fit(v_tr_da)\n",
        "        v_pr = v_cv_mo.transform(v_te_da)\n",
        "    else:\n",
        "        v_cv_mo = v_pi.fit(v_tr_da)\n",
        "        v_pr = v_cv_mo.transform(v_te_da)\n",
        "\n",
        "    evaluator = MulticlassClassificationEvaluator(labelCol=\"label_index\", predictionCol=\"prediction\", metricName=\"accuracy\")\n",
        "    v_ac = evaluator.evaluate(v_pr)"
      ]
    },
    {
      "cell_type": "code",
      "execution_count": null,
      "metadata": {
        "colab": {
          "base_uri": "https://localhost:8080/",
          "height": 493
        },
        "id": "BUhNTm1AjoUJ",
        "outputId": "8756ff92-49fd-40fb-9295-f33725f55c44"
      },
      "outputs": [
        {
          "data": {
            "image/png": "[encoded data removed]",
            "text/plain": [
              "<Figure size 640x480 with 2 Axes>"
            ]
          },
          "metadata": {},
          "output_type": "display_data"
        }
      ],
      "source": [
        "# Here we run a helper on logistic region and display its confusion matrix.\n",
        "# Result reflects accuracy and square-wise errors for LR.\n",
        "\n",
        "v_pr_an_la = v_pr_lr.select(\"prediction\", \"label_index\").toPandas()\n",
        "v_cm = pd.crosstab(v_pr_an_la['label_index'], v_pr_an_la['prediction'])\n",
        "sns.heatmap(v_cm, annot=True, fmt=\"d\", cmap=\"Blues\")\n",
        "plt.title(f\"Logistic Regression\\nAccuracy: {v_ac_lr:.4f}\")  # <-- use v_ac_lr\n",
        "plt.xlabel(\"Predicted\"); plt.ylabel(\"Actual\")\n",
        "plt.show()\n",
        "\n"
      ]
    },
    {
      "cell_type": "code",
      "execution_count": null,
      "metadata": {
        "colab": {
          "base_uri": "https://localhost:8080/",
          "height": 493
        },
        "id": "vSZeLDrpkscY",
        "outputId": "4fe1bd4f-a9af-4a71-fcac-f14546dbe693"
      },
      "outputs": [
        {
          "data": {
            "image/png": "[encoded data removed]",
            "text/plain": [
              "<Figure size 640x480 with 2 Axes>"
            ]
          },
          "metadata": {},
          "output_type": "display_data"
        }
      ],
      "source": [
        "# The same assessment is repeated for Naive bayes.\n",
        "# It lets us directly compare NB's strength and weaknesses against LR.\n",
        "\n",
        "v_pr_an_la = v_pr_nb.select(\"prediction\", \"label_index\").toPandas()\n",
        "v_cm = pd.crosstab(v_pr_an_la[\"label_index\"], v_pr_an_la[\"prediction\"])\n",
        "sns.heatmap(v_cm, annot=True, fmt=\"d\", cmap=\"Greens\")\n",
        "plt.title(f\"Naive Bayes\\nAccuracy: {v_ac_nb:.4f}\")\n",
        "plt.xlabel(\"Predicted\"); plt.ylabel(\"Actual\")\n",
        "plt.show()\n",
        "\n",
        "\n"
      ]
    },
    {
      "cell_type": "code",
      "execution_count": null,
      "metadata": {
        "colab": {
          "base_uri": "https://localhost:8080/",
          "height": 493
        },
        "id": "a8TMCEXbkzro",
        "outputId": "11bdb60f-d217-42f6-cd8a-030fb4cd8bda"
      },
      "outputs": [
        {
          "data": {
            "image/png": "[encoded data removed]",
            "text/plain": [
              "<Figure size 640x480 with 2 Axes>"
            ]
          },
          "metadata": {},
          "output_type": "display_data"
        }
      ],
      "source": [
        "# Random forest model is further evaluated and its confusion matrix is prepared.\n",
        "# We can see if tree-based mistakes are different from linear or not.\n",
        "\n",
        "v_pr_an_la = v_pr_rf.select(\"prediction\", \"label_index\").toPandas()\n",
        "v_cm = pd.crosstab(v_pr_an_la[\"label_index\"], v_pr_an_la[\"prediction\"])\n",
        "sns.heatmap(v_cm, annot=True, fmt=\"d\", cmap=\"Oranges\")\n",
        "plt.title(f\"Random Forest\\nAccuracy: {v_ac_rf:.4f}\")   # <-- use v_ac_rf\n",
        "plt.xlabel(\"Predicted\"); plt.ylabel(\"Actual\")\n",
        "plt.show()\n"
      ]
    },
    {
      "cell_type": "code",
      "execution_count": null,
      "metadata": {
        "colab": {
          "base_uri": "https://localhost:8080/",
          "height": 493
        },
        "id": "I-s2MGgPk5NQ",
        "outputId": "3c25fdc6-71a7-461c-9a57-4a4dfb7f68ec"
      },
      "outputs": [
        {
          "data": {
            "image/png": "[encoded data removed]",
            "text/plain": [
              "<Figure size 640x480 with 2 Axes>"
            ]
          },
          "metadata": {},
          "output_type": "display_data"
        }
      ],
      "source": [
        "# Finally we evaluate Linear SVC and display its confusion matrix.\n",
        "# This completes the set of four classifiers for comparison.\n",
        "\n",
        "v_pr_an_la = v_pr_sv.select(\"prediction\", \"label_index\").toPandas()\n",
        "v_cm = pd.crosstab(v_pr_an_la[\"label_index\"], v_pr_an_la[\"prediction\"])\n",
        "sns.heatmap(v_cm, annot=True, fmt=\"d\", cmap=\"Purples\")\n",
        "plt.title(f\"Linear SVC\\nAccuracy: {v_ac_sv:.4f}\")  # <-- use v_ac_sv (not accuracy_svc)\n",
        "plt.xlabel(\"Predicted\"); plt.ylabel(\"Actual\")\n",
        "plt.show()\n"
      ]
    },
    {
      "cell_type": "code",
      "execution_count": null,
      "metadata": {
        "colab": {
          "base_uri": "https://localhost:8080/",
          "height": 391
        },
        "id": "EubT6lyyk6Wn",
        "outputId": "47598384-e715-4bfe-b51b-eac641ce38fa"
      },
      "outputs": [
        {
          "data": {
            "image/png": "[encoded data removed]",
            "text/plain": [
              "<Figure size 600x400 with 1 Axes>"
            ]
          },
          "metadata": {},
          "output_type": "display_data"
        }
      ],
      "source": [
        "# Now i collect the accuracy of all models and show them once in the chart.\n",
        "# A visual comparison quickly helps identify the best performing model.\n",
        "\n",
        "v_ac2 = {\n",
        "    \"Logistic Regression\": v_ac_lr,\n",
        "    \"Naive Bayes\":        v_ac_nb,\n",
        "    \"Random Forest\":      v_ac_rf,\n",
        "    \"Linear SVC\":         v_ac_sv,\n",
        "}\n",
        "\n",
        "plt.figure(figsize=(6,4))\n",
        "ax = sns.barplot(x=list(v_ac2.keys()), y=list(v_ac2.values()))\n",
        "plt.ylabel(\"Accuracy\")\n",
        "plt.ylim(0, 1)\n",
        "plt.title(\"Model Comparison on IMDB Sentiment Analysis\")\n",
        "for v_i, v_ac in enumerate(v_ac2.values()):\n",
        "    plt.text(v_i, v_ac + 0.01, f\"{v_ac:.2f}\", ha='center')  # <- fixed\n",
        "plt.show()\n"
      ]
    },
    {
      "cell_type": "code",
      "execution_count": null,
      "metadata": {
        "id": "J3XGjgxqkN1t"
      },
      "outputs": [],
      "source": [
        "# Preprocessing stages are cached or rebuilt here for reuse.\n",
        "# This avoids duplication and ensures fair comparison across tuned models.\n",
        "\n",
        "v_st = [v_to, v_st_re, v_ha, v_id, v_la_in]"
      ]
    },
    {
      "cell_type": "code",
      "execution_count": null,
      "metadata": {
        "id": "osnJq70sj5yf"
      },
      "outputs": [],
      "source": [
        "# A result dictionary has been created for each model to store the evaluation score.\n",
        "# By keeping the results organized, in the end it briefly becomes easier.\n",
        "\n",
        "v_re = {}"
      ]
    },
    {
      "cell_type": "code",
      "execution_count": null,
      "metadata": {
        "colab": {
          "base_uri": "https://localhost:8080/",
          "height": 449
        },
        "id": "t2AMnd0vlEum",
        "outputId": "3fb6ea19-5a51-46ee-8c6b-26b3cb31c262"
      },
      "outputs": [
        {
          "name": "stdout",
          "output_type": "stream",
          "text": [
            "Tuned Logistic Regression Accuracy: 0.8657\n"
          ]
        },
        {
          "data": {
            "image/png": "[encoded data removed]",
            "text/plain": [
              "<Figure size 500x400 with 2 Axes>"
            ]
          },
          "metadata": {},
          "output_type": "display_data"
        }
      ],
      "source": [
        "# TrainValidationSplit is applied to logistic region with parameter grid.\n",
        "# This light tuning can promote accuracy by finding better regularization values.\n",
        "\n",
        "# ---- LR tuning (fixed imports + consistent names) ----\n",
        "from pyspark.ml.tuning import TrainValidationSplit, ParamGridBuilder\n",
        "from pyspark.ml.evaluation import MulticlassClassificationEvaluator\n",
        "from pyspark.ml import Pipeline\n",
        "from pyspark.ml.classification import LogisticRegression\n",
        "\n",
        "import pandas as pd\n",
        "import seaborn as sns\n",
        "import matplotlib.pyplot as plt\n",
        "\n",
        "# Use your existing preprocessing stages list\n",
        "try:\n",
        "    v_st\n",
        "except NameError:\n",
        "    # if you called it v_pi_st earlier, use that\n",
        "    v_st = v_pi_st  # or: v_st = [v_to, v_rm, v_tf, v_id, v_si]\n",
        "\n",
        "# Evaluator\n",
        "evaluator = MulticlassClassificationEvaluator(\n",
        "    labelCol=\"label_index\", predictionCol=\"prediction\", metricName=\"accuracy\"\n",
        ")\n",
        "\n",
        "# Model + param grid\n",
        "v_lr_tu = LogisticRegression(featuresCol=\"features\", labelCol=\"label_index\", maxIter=20)\n",
        "v_pa2 = (ParamGridBuilder()\n",
        "         .addGrid(v_lr_tu.regParam, [0.01, 0.05, 0.1])\n",
        "         .addGrid(v_lr_tu.elasticNetParam, [0.0, 0.5, 1.0])\n",
        "         .build())\n",
        "\n",
        "# Train-validation split\n",
        "v_tv = TrainValidationSplit(\n",
        "    estimator=Pipeline(stages=v_st + [v_lr_tu]),\n",
        "    estimatorParamMaps=v_pa2,\n",
        "    evaluator=evaluator,\n",
        "    trainRatio=0.8,\n",
        "    parallelism=2\n",
        ")\n",
        "\n",
        "# Fit + evaluate (uses your train/test DataFrames)\n",
        "v_tu_mo = v_tv.fit(v_tr_da)\n",
        "v_pr_lr_tu = v_tu_mo.transform(v_te_da)\n",
        "v_ac_lr_tu = evaluator.evaluate(v_pr_lr_tu)\n",
        "print(f\"Tuned Logistic Regression Accuracy: {v_ac_lr_tu:.4f}\")\n",
        "\n",
        "# Confusion matrix plot\n",
        "v_pr_an_la = v_pr_lr_tu.select(\"prediction\", \"label_index\").toPandas()\n",
        "v_cm = pd.crosstab(v_pr_an_la['label_index'], v_pr_an_la['prediction'])\n",
        "\n",
        "plt.figure(figsize=(5,4))\n",
        "sns.heatmap(v_cm, annot=True, fmt=\"d\", cmap=\"Blues\")\n",
        "plt.title(f\"Tuned Logistic Regression Confusion Matrix\\nAccuracy: {v_ac_lr_tu:.4f}\")  # <- use v_ac_lr_tu\n",
        "plt.xlabel(\"Predicted\"); plt.ylabel(\"Actual\")\n",
        "plt.show()\n"
      ]
    },
    {
      "cell_type": "code",
      "execution_count": null,
      "metadata": {
        "colab": {
          "base_uri": "https://localhost:8080/"
        },
        "id": "Mm_sggjSlKAo",
        "outputId": "267a4b82-b71c-4780-d9e2-2670a819e8e7"
      },
      "outputs": [
        {
          "name": "stdout",
          "output_type": "stream",
          "text": [
            "Tuned Random Forest Accuracy: 0.7966136064077867\n"
          ]
        }
      ],
      "source": [
        "# Here we tune random forest using a train velidationplate and a small grid.\n",
        "#The depth and adjusting the parameters of the tree can improve performance on text features.\n",
        "\n",
        "from pyspark.ml.tuning import TrainValidationSplit, ParamGridBuilder\n",
        "from pyspark.ml.evaluation import MulticlassClassificationEvaluator\n",
        "from pyspark.ml import Pipeline\n",
        "from pyspark.ml.classification import RandomForestClassifier\n",
        "\n",
        "evaluator = MulticlassClassificationEvaluator(\n",
        "    labelCol=\"label_index\", predictionCol=\"prediction\", metricName=\"accuracy\"\n",
        ")\n",
        "\n",
        "v_tr_da_sm = v_tr_da.sample(False, 0.2, seed=42)  # 20% of training data\n",
        "\n",
        "v_rf = RandomForestClassifier(featuresCol=\"features\", labelCol=\"label_index\", numTrees=50)\n",
        "v_pa_rf = ParamGridBuilder().addGrid(v_rf.maxDepth, [5, 10]).build()\n",
        "\n",
        "v_tv_rf = TrainValidationSplit(\n",
        "    estimator=Pipeline(stages=v_st + [v_rf]),\n",
        "    estimatorParamMaps=v_pa_rf,\n",
        "    evaluator=evaluator,\n",
        "    trainRatio=0.8,\n",
        "    parallelism=1\n",
        ")\n",
        "\n",
        "v_rf_mo_tu = v_tv_rf.fit(v_tr_da_sm)\n",
        "v_pr_rf_tu = v_rf_mo_tu.transform(v_te_da)\n",
        "v_ac_rf_tu = evaluator.evaluate(v_pr_rf_tu)\n",
        "print(\"Tuned Random Forest Accuracy:\", v_ac_rf_tu)\n"
      ]
    },
    {
      "cell_type": "code",
      "execution_count": null,
      "metadata": {
        "colab": {
          "base_uri": "https://localhost:8080/"
        },
        "id": "1b1RZhErlSF3",
        "outputId": "00f8e335-b189-4274-b45d-e34e4a67079d"
      },
      "outputs": [
        {
          "name": "stdout",
          "output_type": "stream",
          "text": [
            "Tuned Linear SVC Accuracy: 0.8246983676366217\n"
          ]
        }
      ],
      "source": [
        "# Linear SVC is further tuned with separate regularization parameters.\n",
        "# Proper tuning is important because SVM margin classification affects accuracy.\n",
        "\n",
        "v_sv = LinearSVC(featuresCol=\"features\", labelCol=\"label_index\", maxIter=20)\n",
        "v_pa_sv = ParamGridBuilder().addGrid(v_sv.regParam, [0.01, 0.1]).build()\n",
        "\n",
        "v_tv_sv = TrainValidationSplit(\n",
        "    estimator=Pipeline(stages=v_st + [v_sv]),\n",
        "    estimatorParamMaps=v_pa_sv,\n",
        "    evaluator=evaluator,\n",
        "    trainRatio=0.8,\n",
        "    parallelism=1\n",
        ")\n",
        "\n",
        "v_sv_mo_tu = v_tv_sv.fit(v_tr_da_sm)\n",
        "v_pr_sv_tu = v_sv_mo_tu.transform(v_te_da)\n",
        "v_ac_sv_tu = evaluator.evaluate(v_pr_sv_tu)\n",
        "print(\"Tuned Linear SVC Accuracy:\", v_ac_sv_tu)"
      ]
    },
    {
      "cell_type": "code",
      "execution_count": null,
      "metadata": {
        "colab": {
          "base_uri": "https://localhost:8080/"
        },
        "id": "G7ei62XtlNdC",
        "outputId": "4b580002-ffff-4535-e43b-b31fa8057f69"
      },
      "outputs": [
        {
          "name": "stdout",
          "output_type": "stream",
          "text": [
            "Tuned Naive Bayes Accuracy: 0.8094900131805739\n"
          ]
        }
      ],
      "source": [
        "# NAIVE BAYES Smuthing Parameter is tuned here.\n",
        "# It controls how unseen words are handled and can stabilize predis's.\n",
        "\n",
        "# Naive Bayes\n",
        "v_nb = NaiveBayes(featuresCol=\"features\", labelCol=\"label_index\")\n",
        "v_pa_nb = ParamGridBuilder().addGrid(v_nb.smoothing, [0.5, 1.0]).build()\n",
        "\n",
        "v_tv_nb = TrainValidationSplit(\n",
        "    estimator=Pipeline(stages=v_st + [v_nb]),\n",
        "    estimatorParamMaps=v_pa_nb,\n",
        "    evaluator=evaluator,\n",
        "    trainRatio=0.8,\n",
        "    parallelism=1\n",
        ")\n",
        "\n",
        "v_nb_mo_tu = v_tv_nb.fit(v_tr_da_sm)\n",
        "v_pr_nb_tu = v_nb_mo_tu.transform(v_te_da)\n",
        "v_ac_nb_tu = evaluator.evaluate(v_pr_nb_tu)\n",
        "print(\"Tuned Naive Bayes Accuracy:\", v_ac_nb_tu)"
      ]
    },
    {
      "cell_type": "code",
      "execution_count": null,
      "metadata": {
        "colab": {
          "base_uri": "https://localhost:8080/"
        },
        "id": "-PzQDeyxlcS5",
        "outputId": "abb2f67f-5277-4705-b9e1-91fd6d3d78be"
      },
      "outputs": [
        {
          "name": "stdout",
          "output_type": "stream",
          "text": [
            "{'Random Forest': None, 'Linear SVC': None, 'Naive Bayes': None}\n"
          ]
        }
      ],
      "source": []
    },
    {
      "cell_type": "code",
      "execution_count": null,
      "metadata": {
        "id": "cMb0dZKrNIlR"
      },
      "outputs": [],
      "source": [
        "!pip install nbconvert\n"
      ]
    },
    {
      "cell_type": "code",
      "execution_count": null,
      "metadata": {
        "colab": {
          "base_uri": "https://localhost:8080/"
        },
        "id": "q3NVpHkMOhRq",
        "outputId": "ca78cdc8-8d84-47fc-9e8a-d5f7bf735cca"
      },
      "outputs": [
        {
          "name": "stdout",
          "output_type": "stream",
          "text": [
            "Drive already mounted at /content/drive; to attempt to forcibly remount, call drive.mount(\"/content/drive\", force_remount=True).\n"
          ]
        }
      ],
      "source": [
        "from google.colab import drive\n",
        "drive.mount('/content/drive')\n",
        "\n",
        "\n"
      ]
    },
    {
      "cell_type": "code",
      "execution_count": null,
      "metadata": {
        "id": "0BYSz4BhOsx_"
      },
      "outputs": [],
      "source": [
        "ls \"/content/drive/MyDrive/\"\n"
      ]
    },
    {
      "cell_type": "code",
      "execution_count": null,
      "metadata": {
        "id": "cQpQmwg0PSmt"
      },
      "outputs": [],
      "source": [
        "!jupyter nbconvert \"/content/drive/MyDrive/Colab Notebooks/Untitled14.ipynb\" --to html\n"
      ]
    }
  ],
  "metadata": {
    "accelerator": "GPU",
    "colab": {
      "gpuType": "T4",
      "provenance": []
    },
    "kernelspec": {
      "display_name": "Python 3",
      "name": "python3"
    },
    "language_info": {
      "name": "python"
    }
  },
  "nbformat": 4,
  "nbformat_minor": 0
}
